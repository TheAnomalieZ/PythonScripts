{
 "cells": [
  {
   "cell_type": "code",
   "execution_count": 1,
   "metadata": {
    "collapsed": false
   },
   "outputs": [],
   "source": [
    "import numpy as np\n",
    "import matplotlib.pyplot as plt\n",
    "import math as mm\n",
    "import csv\n",
    "# %matplotlib notebook\n"
   ]
  },
  {
   "cell_type": "code",
   "execution_count": 2,
   "metadata": {
    "collapsed": false
   },
   "outputs": [],
   "source": [
    "def openFile(file):\n",
    "    f = open(file)\n",
    "    try:\n",
    "        reader = csv.reader(f)\n",
    "        floats = []\n",
    "        for row in reader:\n",
    "            floats.append(row)\n",
    "    finally:\n",
    "        f.close()\n",
    "    return floats"
   ]
  },
  {
   "cell_type": "code",
   "execution_count": 3,
   "metadata": {
    "collapsed": false
   },
   "outputs": [],
   "source": [
    "list =[]\n",
    "# for j in range(1,8):\n",
    "#     name = 'cep/cep00'+str(j)+'_pausetime.csv'\n",
    "#     print (name)\n",
    "#     list.insert(j,name)\n",
    "    \n",
    "# list.insert(7,'anomaly_pausetime.csv')    \n",
    "list.insert(8,'pausetime1.csv')  \n",
    "# list.insert(9,'anomaly_pausetime3.csv')    "
   ]
  },
  {
   "cell_type": "code",
   "execution_count": 5,
   "metadata": {
    "collapsed": false
   },
   "outputs": [
    {
     "data": {
      "image/png": "[encoded data removed]",
      "text/plain": [
       "<matplotlib.figure.Figure at 0x7ff60c7d1590>"
      ]
     },
     "metadata": {},
     "output_type": "display_data"
    }
   ],
   "source": [
    "series = []\n",
    "for i in range(0,len(list)):\n",
    "    series.insert(i,np.array(openFile('../data/'+list[i])))\n",
    "    series[0].shape\n",
    "    x = np.arange(1, (series[i].size+1), 1)\n",
    "    y = series[i][:,0]\n",
    "    plt.plot(x,y,'r')\n",
    "    # plt.plot(numberoftest,-80,'g')\n",
    "    # plt.xlim(2000,10000, 100)\n",
    "    plt.xlabel('Time')\n",
    "    plt.ylabel('PauseTime')\n",
    "    plt.title(list[i]+' Pause Time series')\n",
    "    plt.show()\n"
   ]
  },
  {
   "cell_type": "code",
   "execution_count": null,
   "metadata": {
    "collapsed": true
   },
   "outputs": [],
   "source": []
  },
  {
   "cell_type": "code",
   "execution_count": null,
   "metadata": {
    "collapsed": true
   },
   "outputs": [],
   "source": []
  }
 ],
 "metadata": {
  "kernelspec": {
   "display_name": "Python 2",
   "language": "python",
   "name": "python2"
  },
  "language_info": {
   "codemirror_mode": {
    "name": "ipython",
    "version": 2
   },
   "file_extension": ".py",
   "mimetype": "text/x-python",
   "name": "python",
   "nbconvert_exporter": "python",
   "pygments_lexer": "ipython2",
   "version": "2.7.12"
  }
 },
 "nbformat": 4,
 "nbformat_minor": 1
}
