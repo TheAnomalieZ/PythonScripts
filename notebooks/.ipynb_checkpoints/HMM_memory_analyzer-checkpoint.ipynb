{
 "cells": [
  {
   "cell_type": "code",
   "execution_count": 1,
   "metadata": {
    "collapsed": true
   },
   "outputs": [],
   "source": [
    "import numpy as np\n",
    "from hmmlearn import hmm\n",
    "import matplotlib.pyplot as plt\n",
    "import math as mm\n",
    "import csv as C"
   ]
  },
  {
   "cell_type": "code",
   "execution_count": 2,
   "metadata": {
    "collapsed": true
   },
   "outputs": [],
   "source": [
    "np.random.seed(42)\n",
    "f = open('training_data1.csv')\n",
    "try:\n",
    "    reader = C.reader(f)\n",
    "    floats = []\n",
    "    for row in reader:\n",
    "        floats.append(map(int, row))\n",
    "finally:\n",
    "    f.close()"
   ]
  },
  {
   "cell_type": "code",
   "execution_count": 3,
   "metadata": {
    "collapsed": true
   },
   "outputs": [],
   "source": [
    "train_data = np.array(floats)"
   ]
  },
  {
   "cell_type": "code",
   "execution_count": 4,
   "metadata": {
    "collapsed": true
   },
   "outputs": [],
   "source": [
    "modellist = []"
   ]
  },
  {
   "cell_type": "code",
   "execution_count": null,
   "metadata": {
    "collapsed": false
   },
   "outputs": [],
   "source": [
    "for num in range(5, 15):\n",
    "    model = hmm.MultinomialHMM(n_components=num)\n",
    "    model.fit(train_data)\n",
    "    modellist.append(model)"
   ]
  },
  {
   "cell_type": "code",
   "execution_count": 18,
   "metadata": {
    "collapsed": true
   },
   "outputs": [],
   "source": [
    "f = open('testing_data1.csv')\n",
    "try:\n",
    "    reader = C.reader(f)\n",
    "    floats = []\n",
    "    for row in reader:\n",
    "        floats.append(map(int, row))\n",
    "finally:\n",
    "    f.close()\n",
    "\n",
    "test_data = np.array(floats)"
   ]
  },
  {
   "cell_type": "code",
   "execution_count": 19,
   "metadata": {
    "collapsed": false
   },
   "outputs": [],
   "source": [
    "scorelist = []\n",
    "for num in range(5, 15):\n",
    "    value = modellist[num-5].score(test_data)\n",
    "    #val = mm.exp(value* mm.log(10.))\n",
    "    scorelist.append(value)\n"
   ]
  },
  {
   "cell_type": "code",
   "execution_count": 20,
   "metadata": {
    "collapsed": true
   },
   "outputs": [],
   "source": [
    "hstatelist = []\n",
    "for i in range(5, 15):\n",
    "    hstatelist.append(i)"
   ]
  },
  {
   "cell_type": "code",
   "execution_count": 23,
   "metadata": {
    "collapsed": false
   },
   "outputs": [],
   "source": [
    "plt.plot(hstatelist,scorelist)\n",
    "plt.xlabel('HMM Model')\n",
    "plt.ylabel('Probability')\n",
    "plt.title('Evaluation')\n",
    "plt.show()"
   ]
  },
  {
   "cell_type": "code",
   "execution_count": null,
   "metadata": {
    "collapsed": true
   },
   "outputs": [],
   "source": []
  }
 ],
 "metadata": {
  "kernelspec": {
   "display_name": "Python 2",
   "language": "python",
   "name": "python2"
  },
  "language_info": {
   "codemirror_mode": {
    "name": "ipython",
    "version": 2
   },
   "file_extension": ".py",
   "mimetype": "text/x-python",
   "name": "python",
   "nbconvert_exporter": "python",
   "pygments_lexer": "ipython2",
   "version": "2.7.12"
  }
 },
 "nbformat": 4,
 "nbformat_minor": 0
}
