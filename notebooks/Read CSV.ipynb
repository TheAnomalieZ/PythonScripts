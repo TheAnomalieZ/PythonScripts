{
 "cells": [
  {
   "cell_type": "code",
   "execution_count": 1,
   "metadata": {
    "collapsed": true
   },
   "outputs": [],
   "source": [
    "import csv as C"
   ]
  },
  {
   "cell_type": "code",
   "execution_count": 2,
   "metadata": {
    "collapsed": true
   },
   "outputs": [],
   "source": [
    "import sys"
   ]
  },
  {
   "cell_type": "code",
   "execution_count": 3,
   "metadata": {
    "collapsed": false
   },
   "outputs": [],
   "source": [
    "import numpy as np\n",
    "csv = np.genfromtxt('benchmark.csv', dtype=int,  delimiter= \",\")"
   ]
  },
  {
   "cell_type": "code",
   "execution_count": 4,
   "metadata": {
    "collapsed": false
   },
   "outputs": [
    {
     "data": {
      "text/plain": [
       "array([1, 2, 2, 2, 0, 2, 0, 2, 1, 1, 2, 0, 2, 0, 1, 2, 0, 1, 2, 0, 2, 1, 0,\n",
       "       2, 2, 0, 2, 0, 2, 0, 2, 2, 0, 0, 2, 1, 0, 2, 0, 0, 2, 0, 2, 1, 1, 2,\n",
       "       1, 1, 2, 2, 2, 1, 2, 0, 2, 1, 2, 2, 2, 1, 2, 2, 1, 2, 2, 0, 2, 0, 2,\n",
       "       0, 2, 1, 2, 2, 2, 2, 2, 1, 0, 1, 2, 0, 0])"
      ]
     },
     "execution_count": 4,
     "metadata": {},
     "output_type": "execute_result"
    }
   ],
   "source": [
    "csv"
   ]
  },
  {
   "cell_type": "code",
   "execution_count": 5,
   "metadata": {
    "collapsed": true
   },
   "outputs": [],
   "source": [
    "f = open('benchmark.csv')\n",
    "try:\n",
    "    reader = C.reader(f)\n",
    "    floats = []\n",
    "    for row in reader:\n",
    "        floats.append(map(int, row))\n",
    "finally:\n",
    "    f.close()\n",
    "\n",
    "A = np.array(floats)"
   ]
  },
  {
   "cell_type": "code",
   "execution_count": 6,
   "metadata": {
    "collapsed": false
   },
   "outputs": [
    {
     "data": {
      "text/plain": [
       "52"
      ]
     },
     "execution_count": 6,
     "metadata": {},
     "output_type": "execute_result"
    }
   ],
   "source": [
    "n = A.size-30\n",
    "i = 0\n",
    "temp = []\n",
    "if(n>0):\n",
    "    for number in range(1,n):\n",
    "        temp.append(A[i:i+30])\n",
    "        i = +1\n",
    "else:\n",
    "    temp = A\n",
    "    \n",
    "len(temp)"
   ]
  },
  {
   "cell_type": "code",
   "execution_count": 7,
   "metadata": {
    "collapsed": false
   },
   "outputs": [],
   "source": [
    "from numpy import array\n",
    "file_to_read = file('benchmark.csv','r')\n",
    "read_from = C.reader(file_to_read)\n",
    "datalist = [ map(float, row[:]) for row in read_from ]\n",
    "\n",
    "# now the real data\n",
    "data = array(datalist, dtype = int)"
   ]
  },
  {
   "cell_type": "code",
   "execution_count": null,
   "metadata": {
    "collapsed": false
   },
   "outputs": [],
   "source": []
  },
  {
   "cell_type": "code",
   "execution_count": 12,
   "metadata": {
    "collapsed": false
   },
   "outputs": [
    {
     "data": {
      "text/plain": [
       "array([1, 2, 0, 0])"
      ]
     },
     "execution_count": 12,
     "metadata": {},
     "output_type": "execute_result"
    }
   ],
   "source": [
    "A[-4:,-1]"
   ]
  },
  {
   "cell_type": "code",
   "execution_count": null,
   "metadata": {
    "collapsed": false
   },
   "outputs": [],
   "source": []
  },
  {
   "cell_type": "code",
   "execution_count": null,
   "metadata": {
    "collapsed": true
   },
   "outputs": [],
   "source": []
  }
 ],
 "metadata": {
  "kernelspec": {
   "display_name": "Python 2",
   "language": "python",
   "name": "python2"
  },
  "language_info": {
   "codemirror_mode": {
    "name": "ipython",
    "version": 2
   },
   "file_extension": ".py",
   "mimetype": "text/x-python",
   "name": "python",
   "nbconvert_exporter": "python",
   "pygments_lexer": "ipython2",
   "version": "2.7.12"
  }
 },
 "nbformat": 4,
 "nbformat_minor": 0
}
