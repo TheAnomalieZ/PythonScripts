{
 "cells": [
  {
   "cell_type": "code",
   "execution_count": 54,
   "metadata": {
    "collapsed": true
   },
   "outputs": [],
   "source": [
    "import numpy as np\n",
    "from hmmlearn import hmm\n",
    "import matplotlib.pyplot as plt\n",
    "import math as mm\n",
    "import csv as c"
   ]
  },
  {
   "cell_type": "code",
   "execution_count": 55,
   "metadata": {
    "collapsed": false
   },
   "outputs": [],
   "source": [
    "np.random.seed(42)\n",
    "f = open('training_data1.csv')\n",
    "try:\n",
    "    reader = c.reader(f)\n",
    "    floats = []\n",
    "    for row in reader:\n",
    "        floats.append(map(int, row))\n",
    "finally:\n",
    "    f.close()\n",
    "\n",
    "train_data = np.array(floats)"
   ]
  },
  {
   "cell_type": "code",
   "execution_count": 70,
   "metadata": {
    "collapsed": false
   },
   "outputs": [
    {
     "data": {
      "text/plain": [
       "MultinomialHMM(algorithm='viterbi', init_params='ste', n_components=8,\n",
       "        n_iter=10, params='ste',\n",
       "        random_state=<mtrand.RandomState object at 0x7fd0b008c910>,\n",
       "        startprob_prior=1.0, tol=0.01, transmat_prior=1.0, verbose=False)"
      ]
     },
     "execution_count": 70,
     "metadata": {},
     "output_type": "execute_result"
    }
   ],
   "source": [
    "model = hmm.MultinomialHMM(n_components=8)\n",
    "model.fit(train_data)"
   ]
  },
  {
   "cell_type": "code",
   "execution_count": 71,
   "metadata": {
    "collapsed": false
   },
   "outputs": [],
   "source": [
    "f = open('testing_data1.csv')\n",
    "try:\n",
    "    reader = c.reader(f)\n",
    "    floats = []\n",
    "    for row in reader:\n",
    "        floats.append(map(int, row))\n",
    "finally:\n",
    "    f.close()\n",
    "\n",
    "test_data = np.array(floats)"
   ]
  },
  {
   "cell_type": "code",
   "execution_count": 72,
   "metadata": {
    "collapsed": false
   },
   "outputs": [],
   "source": [
    "scorelist = []\n",
    "window = 50\n",
    "\n",
    "n = test_data.size/window\n",
    "\n",
    "remain_indexs = test_data.size - n*window\n",
    "\n",
    "remain_test_data = test_data[-remain_indexs:,-1]\n",
    "\n",
    "# remain_test_data.size\n",
    "# test_data.size"
   ]
  },
  {
   "cell_type": "code",
   "execution_count": 73,
   "metadata": {
    "collapsed": false
   },
   "outputs": [
    {
     "name": "stderr",
     "output_type": "stream",
     "text": [
      "/usr/lib64/python2.7/site-packages/sklearn/utils/validation.py:386: DeprecationWarning: Passing 1d arrays as data is deprecated in 0.17 and willraise ValueError in 0.19. Reshape your data either using X.reshape(-1, 1) if your data has a single feature or X.reshape(1, -1) if it contains a single sample.\n",
      "  DeprecationWarning)\n"
     ]
    },
    {
     "data": {
      "text/plain": [
       "212"
      ]
     },
     "execution_count": 73,
     "metadata": {},
     "output_type": "execute_result"
    }
   ],
   "source": [
    "i =0\n",
    "for num in range(0,n):\n",
    "    value = model.score(test_data[i:i+window])\n",
    "    i+=25\n",
    "    #val = mm.exp(value* mm.log(10.))\n",
    "    scorelist.append(value)\n",
    "\n",
    "value = model.score(remain_test_data) \n",
    "scorelist.append(value)\n",
    "\n",
    "len(scorelist)    \n"
   ]
  },
  {
   "cell_type": "code",
   "execution_count": 74,
   "metadata": {
    "collapsed": false
   },
   "outputs": [
    {
     "data": {
      "text/plain": [
       "212"
      ]
     },
     "execution_count": 74,
     "metadata": {},
     "output_type": "execute_result"
    }
   ],
   "source": [
    "numberoftest = []\n",
    "for i in range(0,n+1):\n",
    "    numberoftest.append(i)\n",
    "len(numberoftest)"
   ]
  },
  {
   "cell_type": "code",
   "execution_count": 75,
   "metadata": {
    "collapsed": false
   },
   "outputs": [],
   "source": [
    "plt.plot(numberoftest,scorelist)\n",
    "plt.xlabel('Window level')\n",
    "plt.ylabel('Probability')\n",
    "plt.title('Test Score Evaluation')\n",
    "plt.show()"
   ]
  },
  {
   "cell_type": "code",
   "execution_count": null,
   "metadata": {
    "collapsed": true
   },
   "outputs": [],
   "source": []
  }
 ],
 "metadata": {
  "kernelspec": {
   "display_name": "Python 2",
   "language": "python",
   "name": "python2"
  },
  "language_info": {
   "codemirror_mode": {
    "name": "ipython",
    "version": 2
   },
   "file_extension": ".py",
   "mimetype": "text/x-python",
   "name": "python",
   "nbconvert_exporter": "python",
   "pygments_lexer": "ipython2",
   "version": "2.7.12"
  }
 },
 "nbformat": 4,
 "nbformat_minor": 0
}
